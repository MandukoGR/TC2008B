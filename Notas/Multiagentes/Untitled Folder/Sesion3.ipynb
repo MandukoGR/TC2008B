{
 "cells": [
  {
   "cell_type": "code",
   "execution_count": 3,
   "id": "4a6ffe1b",
   "metadata": {},
   "outputs": [],
   "source": [
    "import numpy as np\n",
    "import pandas as pd\n",
    "# Importamos matplotlib para visualizar la interacción del agente con el medio ambiente.\n",
    "import matplotlib\n",
    "import matplotlib.pyplot as plt\n",
    "import matplotlib.animation as animation\n",
    "# Importamos datetime y time para obtener el tiempo que se tarda la simulación.\n",
    "import datetime, time\n",
    "# Mesa, importamos la clase Model y Agent para definir a los agentes y su comunicación\n",
    "from mesa import Model, Agent\n",
    "# Mesa, para definir el medio ambiente, importamos MultiGrid\n",
    "from mesa.space import MultiGrid\n",
    "# Mesa, para definir cuándo y cómo se activan los agentes importamos Activation\n",
    "from mesa.time import RandomActivation\n",
    "# Mesa, para recabar información usamos \"datacollectors\"\n",
    "from mesa.datacollection import DataCollector"
   ]
  },
  {
   "cell_type": "code",
   "execution_count": 4,
   "id": "287fe15c",
   "metadata": {},
   "outputs": [],
   "source": [
    "options = np.array([[-1,-1], [-1, 0], [-1, +1],\n",
    "                    [0, -1],    [0, +1],\n",
    "                    [+1, -1], [+1, 0], [+1, +1]])\n",
    "\n",
    "LIMIT = 10000"
   ]
  },
  {
   "cell_type": "code",
   "execution_count": 5,
   "id": "53b32dc2",
   "metadata": {},
   "outputs": [],
   "source": [
    "class RobotVacuumCleanerAgent(Agent):\n",
    "    def __init__(self, unique_id, model):\n",
    "        super().__init__(unique_id, model)\n",
    "        self.pos = np.array( (1, 2) )\n",
    "        \n",
    "    def step(self):\n",
    "        if self.model.floor[self.pos[0]][self.pos[1]] == 1:\n",
    "            self.model.floor[self.pos[0]][self.pos[1]] = 0\n",
    "        else:\n",
    "            i = int(np.random.rand() * LIMIT) % len(options)\n",
    "            ren = self.pos[0] + options[i][0]\n",
    "            col = self.pos[1] + options[i][1]\n",
    "            if self.can_move(ren, col):\n",
    "                self.model.grid.move_agent(self, (col, ren))\n",
    "                \n",
    "    def can_move(self, ren, col):\n",
    "        return (ren >= 0 and ren < self.model.grid.height and col >= 0 and col < self.model.grid.width)"
   ]
  },
  {
   "cell_type": "code",
   "execution_count": 6,
   "id": "23576d17",
   "metadata": {},
   "outputs": [],
   "source": [
    "def get_grid(model):\n",
    "    grid = np.zeros( (model.grid.height, model.grid.width) )\n",
    "    for ren in range(model.grid.height):\n",
    "        for col in range(model.grid.width):\n",
    "            if model.grid.is_cell_empty((col, ren)):\n",
    "                grid[ren][col] *= 2\n",
    "            else:\n",
    "                grid[ren][col] = 1\n",
    "    return grid"
   ]
  },
  {
   "cell_type": "code",
   "execution_count": 7,
   "id": "a56d6833",
   "metadata": {},
   "outputs": [],
   "source": [
    "class RobotVacuumCleanerModel (Model):\n",
    "    def __init__(self, height, width, num_agents = 1, dirty_cells_percentage = 0.5):\n",
    "        self.num_agents = num_agents\n",
    "        self.dirty_cells_percentage = dirty_cells_percentage\n",
    "        self.grid = MultiGrid(height, width, False)\n",
    "        self.schedule = RandomActivation(self)\n",
    "        # Ensuciamo el piso\n",
    "        self.floor = np.zeros((height, width))\n",
    "        amount = int(height * width * dirty_cells_percentage)\n",
    "        for i in range(amount):\n",
    "            finished = False\n",
    "            while not finished:\n",
    "                ren = int(np.random.rand() * LIMIT) % height\n",
    "                col = int(np.random.rand() * LIMIT) % width\n",
    "                if self.floor[ren][col] == 0:\n",
    "                    self.floor[ren][col] = 1\n",
    "                    self.floor[ren][col] = 1  \n",
    "                    finished = True\n",
    "        # Generamos los agentes\n",
    "        for i in range(num_agents):\n",
    "            a = RobotVacuumCleanerAgent(i, self)\n",
    "            self.grid.place_agent(a , (0,0))\n",
    "            self.schedule.add(a)\n",
    "        \n",
    "        self.datacollector = DataCollector(model_reporters= {\"Grid\":get_grid})\n",
    "        \n",
    "    def step(self):\n",
    "        self.datacollector.collect(self)\n",
    "        self.schedule.step()\n",
    "    \n",
    "    def is_all_clean(self):\n",
    "        return np.all(self.floor == 0)"
   ]
  },
  {
   "cell_type": "code",
   "execution_count": 8,
   "id": "02061277",
   "metadata": {},
   "outputs": [
    {
     "name": "stdout",
     "output_type": "stream",
     "text": [
      "Tiempo de ejecución:  1:37:35.307770\n"
     ]
    }
   ],
   "source": [
    "GRID_SIZE = 20\n",
    "MAX_ITERATIONS = 200\n",
    "start_time = time.time()\n",
    "model = RobotVacuumCleanerModel(GRID_SIZE, GRID_SIZE)\n",
    "i = 1\n",
    "while i <= MAX_ITERATIONS and not model.is_all_clean():\n",
    "    model.step()\n",
    "    i += 1\n",
    "print('Tiempo de ejecución: ', str(datetime.timedelta(time.time() - start_time)))\n"
   ]
  },
  {
   "cell_type": "code",
   "execution_count": 9,
   "id": "5465515b",
   "metadata": {},
   "outputs": [],
   "source": [
    "all_grid = model.datacollector.get_model_vars_dataframe()"
   ]
  },
  {
   "cell_type": "code",
   "execution_count": 10,
   "id": "c5762842",
   "metadata": {},
   "outputs": [
    {
     "data": {
      "image/png": "[encoded data removed]",
      "text/plain": [
       "<Figure size 700x700 with 1 Axes>"
      ]
     },
     "metadata": {},
     "output_type": "display_data"
    }
   ],
   "source": [
    "fig, axs = plt.subplots(figsize=(7, 7))\n",
    "axs.set_xticks([])\n",
    "axs.set_yticks([])\n",
    "patch = plt.imshow(all_grid.iloc[0][0], cmap = plt.cm.binary)\n",
    "\n",
    "def animate(i):\n",
    "    patch.set_data(all_grid_iloc[i][0])\n",
    "    \n",
    "anim = animation.FuncAnimation(fig, animate, frames= MAX_ITERATIONS)"
   ]
  },
  {
   "cell_type": "code",
   "execution_count": 11,
   "id": "15f46278",
   "metadata": {},
   "outputs": [
    {
     "data": {
      "text/plain": [
       "<matplotlib.animation.FuncAnimation at 0x7ff3488f30a0>"
      ]
     },
     "execution_count": 11,
     "metadata": {},
     "output_type": "execute_result"
    }
   ],
   "source": [
    "anim"
   ]
  },
  {
   "cell_type": "code",
   "execution_count": null,
   "id": "725e3440",
   "metadata": {},
   "outputs": [],
   "source": []
  }
 ],
 "metadata": {
  "kernelspec": {
   "display_name": "Python 3 (ipykernel)",
   "language": "python",
   "name": "python3"
  },
  "language_info": {
   "codemirror_mode": {
    "name": "ipython",
    "version": 3
   },
   "file_extension": ".py",
   "mimetype": "text/x-python",
   "name": "python",
   "nbconvert_exporter": "python",
   "pygments_lexer": "ipython3",
   "version": "3.9.13"
  }
 },
 "nbformat": 4,
 "nbformat_minor": 5
}
