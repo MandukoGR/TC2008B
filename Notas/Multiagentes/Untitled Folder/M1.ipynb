{
 "cells": [
  {
   "cell_type": "code",
   "execution_count": 1,
   "id": "8c925062",
   "metadata": {},
   "outputs": [],
   "source": [
    "#La clase Model para manejar los agentes y la clase Agent para un definir un agente.\n",
    "from mesa import Agent, Model\n",
    "\n",
    "# Debido a que necesitamos varios agentes por celda, elegimos ''MultiGrid''.\n",
    "from mesa.space import MultiGrid\n",
    "\n",
    "# Con ''RandomActivation'', hacemos que todos los agentes se activen ''al mismo tiempo''.\n",
    "from mesa.time import RandomActivation\n",
    "\n",
    "# Con ''DataCollector'', vamos a recuperar información del modelo.\n",
    "from mesa.datacollection import DataCollector\n",
    "\n",
    "# matplotlib lo vamos a utilizar para realizar una ''animación'' de mi modelo.\n",
    "%matplotlib inline\n",
    "import matplotlib\n",
    "import matplotlib.pyplot as plt\n",
    "import matplotlib.animation as animation\n",
    "plt.rcParams[\"animation.html\"] = \"jshtml\"\n",
    "matplotlib.rcParams['animation.embed_limit'] = 2**128\n",
    "\n",
    "import numpy as np\n",
    "import pandas as pd\n",
    "\n",
    "# Definimos otros paquete que vamos a usar para medir el tiempo de ejecución del modelo\n",
    "import time\n",
    "import datetime\n",
    "\n",
    "MAXVAL = 10000"
   ]
  },
  {
   "cell_type": "code",
   "execution_count": 2,
   "id": "b16b57fc",
   "metadata": {},
   "outputs": [],
   "source": [
    "class RobotVacuumCleanerAgent(Agent):\n",
    "    def __init__(self, unique_id, model):\n",
    "        super().__init__(unique_id, model)\n",
    "        self.options = np.array([ [-1, -1], [-1,  0], [-1, +1],\n",
    "                                  [ 0, -1],           [ 0, +1],\n",
    "                                  [+1, -1], [+1,  0], [+1, +1] ])\n",
    "        \n",
    "    def can_move(self, x, y):\n",
    "        return (x >= 0 and x < self.model.grid.width and \n",
    "                y >= 0 and y < self.model.grid.height)\n",
    "        \n",
    "    def step(self):\n",
    "        if self.model.floor[self.pos[0]][self.pos[1]] == 1:\n",
    "            self.model.floor[self.pos[0]][self.pos[1]] = 0\n",
    "            self.model.clean_cells += 1\n",
    "            self.model.movements += 1\n",
    "        else:\n",
    "            i = int( np.random.rand() * MAXVAL ) % len(self.options)\n",
    "            x = self.pos[0] + self.options[i][0]\n",
    "            y = self.pos[1] + self.options[i][1]\n",
    "            if self.can_move(x, y):\n",
    "                self.model.grid.move_agent(self, (x, y))\n",
    "                self.model.movements += 1\n",
    "                \n",
    "def get_grid(model):\n",
    "    \"\"\" Esta función nos permite obtener el estado de los diferentes agentes.\n",
    "        *param* model : Modelo del que obtendrá la información. \n",
    "        *return* una matriz con la información del estado de cada uno de los agentes.\"\"\"\n",
    "    grid = np.zeros( (model.grid.width, model.grid.height) )\n",
    "    for x in range (model.grid.width):\n",
    "        for y in range (model.grid.height):\n",
    "            if model.grid.is_cell_empty( (x, y) ) :\n",
    "                grid[x][y] = model.floor[x][y] * 2\n",
    "            else:\n",
    "                grid[x][y] = 1\n",
    "    #print (grid)\n",
    "    return grid\n",
    "    \n",
    "class RobotVacuumCleanerModel(Model):\n",
    "    def __init__(self, width, height, num_agents, dirty_cells_percentage = 0.5):\n",
    "        self.num_agents = num_agents\n",
    "        self.dirty_cells_percentage = dirty_cells_percentage\n",
    "        self.grid = MultiGrid(width, height, True)\n",
    "        self.schedule = RandomActivation(self)\n",
    "        self.floor = np.zeros( (width, height) )\n",
    "        self.clean_cells = width * height - (width * height * dirty_cells_percentage)\n",
    "        self.movements = 0\n",
    "        # Create agents\n",
    "        for i in range(self.num_agents):\n",
    "            a = RobotVacuumCleanerAgent(i, self)\n",
    "            self.grid.place_agent(a, (1, 1))\n",
    "            self.schedule.add(a)\n",
    "            \n",
    "        # Initializate the ''dirty'' cells\n",
    "        amount = int((width * height) * dirty_cells_percentage)\n",
    "        for i in range(amount):\n",
    "            finished = False\n",
    "            while not finished:\n",
    "                x = int(np.random.rand() * MAXVAL) % width\n",
    "                y = int(np.random.rand() * MAXVAL) % height\n",
    "                if self.floor[x][y] == 0:\n",
    "                    self.floor[x][y] = 1\n",
    "                    finished = True\n",
    "        #print(self.floor)\n",
    "                    \n",
    "        self.datacollector = DataCollector(model_reporters={\"Grid\": get_grid})\n",
    "        \n",
    "    def is_all_clean(self):\n",
    "        return np.all(self.floor == 0)\n",
    "    \n",
    "    def get_clean_cells_percentage(self):\n",
    "        return self.clean_cells / (self.grid.width * self.grid.height)\n",
    "    def step(self):\n",
    "        \"\"\" Ejecuta un paso de la simulación.\"\"\"\n",
    "        self.datacollector.collect(self)\n",
    "        self.schedule.step()"
   ]
  },
  {
   "cell_type": "code",
   "execution_count": 3,
   "id": "a9461e41",
   "metadata": {},
   "outputs": [
    {
     "name": "stdout",
     "output_type": "stream",
     "text": [
      "Tiempo de ejecución: 0:00:12.894467\n",
      "Porcentaje de celdas limpias: 1.0\n",
      "Movimientos totales realizados por los agentes: 57200\n",
      "Generaciones totales: 5871\n"
     ]
    }
   ],
   "source": [
    "# Definimos el tamaño del Grid\n",
    "GRID_SIZE = 50\n",
    "\n",
    "# Definimos el número máximo de generaciones a correr se utilizará para que la animacion no tarde tanto\n",
    "MAX_GENERATIONS = 200\n",
    "\n",
    "# Definimos el número de agentes\n",
    "NUM_AGENTS = 10\n",
    "\n",
    "# Definimos el porcentaje de celdas sucias\n",
    "DIRTY_CELLS_PERC = 0.9\n",
    "\n",
    "# Definimos el tiempo máximo de ejecución\n",
    "MAX_TIME = 15\n",
    "\n",
    "# Registramos el tiempo de inicio y ejecutamos la simulación\n",
    "start_time = time.time()\n",
    "\n",
    "# Definimos un contador de generaciones\n",
    "generations_counter = 0\n",
    "\n",
    "model = RobotVacuumCleanerModel(GRID_SIZE, GRID_SIZE, NUM_AGENTS, DIRTY_CELLS_PERC )\n",
    "i = 1\n",
    "while not model.is_all_clean() and time.time() - start_time < MAX_TIME:\n",
    "    generations_counter += 1\n",
    "    model.step()\n",
    "    i += 1\n",
    "    \n",
    "# Imprimimos el tiempo que le tomó correr al modelo.\n",
    "print('Tiempo de ejecución:', str(datetime.timedelta(seconds=(time.time() - start_time))))\n",
    "print('Porcentaje de celdas limpias:', model.get_clean_cells_percentage())\n",
    "print(\"Movimientos totales realizados por los agentes:\", model.movements)\n",
    "print(\"Generaciones totales:\", generations_counter)"
   ]
  },
  {
   "cell_type": "code",
   "execution_count": 4,
   "id": "9e7b1db8",
   "metadata": {},
   "outputs": [],
   "source": [
    "# Obtenemos la información que almacenó el colector, este nos entregará un DataFrame de pandas que contiene toda la información.\n",
    "all_grid = model.datacollector.get_model_vars_dataframe()"
   ]
  },
  {
   "cell_type": "code",
   "execution_count": 5,
   "id": "6cf2e76b",
   "metadata": {},
   "outputs": [
    {
     "data": {
      "image/png": "[encoded data removed]",
      "text/plain": [
       "<Figure size 700x700 with 1 Axes>"
      ]
     },
     "metadata": {},
     "output_type": "display_data"
    }
   ],
   "source": [
    "# Graficamos la información usando `matplotlib`\n",
    "# %%capture\n",
    "\n",
    "fig, axs = plt.subplots(figsize=(7,7))\n",
    "axs.set_xticks([])\n",
    "axs.set_yticks([])\n",
    "patch = plt.imshow(all_grid.iloc[0][0], cmap=plt.cm.binary)\n",
    "\n",
    "def animate(i):\n",
    "    patch.set_data(all_grid.iloc[i][0])\n",
    "    \n",
    "anim = animation.FuncAnimation(fig, animate, frames=MAX_GENERATIONS)"
   ]
  },
  {
   "cell_type": "code",
   "execution_count": 6,
   "id": "b0e9045e",
   "metadata": {},
   "outputs": [],
   "source": [
    "anim"
   ]
  },
  {
   "cell_type": "code",
   "execution_count": null,
   "id": "b94f1b36",
   "metadata": {},
   "outputs": [],
   "source": []
  }
 ],
 "metadata": {
  "kernelspec": {
   "display_name": "Python 3.9.13 ('base')",
   "language": "python",
   "name": "python3"
  },
  "language_info": {
   "codemirror_mode": {
    "name": "ipython",
    "version": 3
   },
   "file_extension": ".py",
   "mimetype": "text/x-python",
   "name": "python",
   "nbconvert_exporter": "python",
   "pygments_lexer": "ipython3",
   "version": "3.9.13"
  },
  "vscode": {
   "interpreter": {
    "hash": "7cd167e6ef30b8ff1942b903d420909f26398f4933166ab8040e3a988554b9dd"
   }
  }
 },
 "nbformat": 4,
 "nbformat_minor": 5
}
